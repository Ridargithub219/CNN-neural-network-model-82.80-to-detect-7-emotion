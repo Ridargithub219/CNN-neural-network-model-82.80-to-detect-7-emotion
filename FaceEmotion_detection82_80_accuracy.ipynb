{
  "nbformat": 4,
  "nbformat_minor": 0,
  "metadata": {
    "colab": {
      "provenance": [],
      "gpuType": "T4"
    },
    "kernelspec": {
      "name": "python3",
      "display_name": "Python 3"
    },
    "language_info": {
      "name": "python"
    },
    "accelerator": "GPU",
    "widgets": {
      "application/vnd.jupyter.widget-state+json": {
        "f7e8ae90c9b74e4890fac6c274154d41": {
          "model_module": "@jupyter-widgets/controls",
          "model_name": "HBoxModel",
          "model_module_version": "1.5.0",
          "state": {
            "_dom_classes": [],
            "_model_module": "@jupyter-widgets/controls",
            "_model_module_version": "1.5.0",
            "_model_name": "HBoxModel",
            "_view_count": null,
            "_view_module": "@jupyter-widgets/controls",
            "_view_module_version": "1.5.0",
            "_view_name": "HBoxView",
            "box_style": "",
            "children": [
              "IPY_MODEL_c3e717ab3ee140508d13edaebc5e86da",
              "IPY_MODEL_48e25b3f7833450eb1cc62c20f6eac68",
              "IPY_MODEL_f64b1f149f1946ff84fd22a192ac722c"
            ],
            "layout": "IPY_MODEL_7cfa15ab8aed433cb4add0d749417f79"
          }
        },
        "c3e717ab3ee140508d13edaebc5e86da": {
          "model_module": "@jupyter-widgets/controls",
          "model_name": "HTMLModel",
          "model_module_version": "1.5.0",
          "state": {
            "_dom_classes": [],
            "_model_module": "@jupyter-widgets/controls",
            "_model_module_version": "1.5.0",
            "_model_name": "HTMLModel",
            "_view_count": null,
            "_view_module": "@jupyter-widgets/controls",
            "_view_module_version": "1.5.0",
            "_view_name": "HTMLView",
            "description": "",
            "description_tooltip": null,
            "layout": "IPY_MODEL_a45b9db72849496197cf3f682631a2ae",
            "placeholder": "​",
            "style": "IPY_MODEL_3a912ee522d4405da92036f3262d6397",
            "value": "100%"
          }
        },
        "48e25b3f7833450eb1cc62c20f6eac68": {
          "model_module": "@jupyter-widgets/controls",
          "model_name": "FloatProgressModel",
          "model_module_version": "1.5.0",
          "state": {
            "_dom_classes": [],
            "_model_module": "@jupyter-widgets/controls",
            "_model_module_version": "1.5.0",
            "_model_name": "FloatProgressModel",
            "_view_count": null,
            "_view_module": "@jupyter-widgets/controls",
            "_view_module_version": "1.5.0",
            "_view_name": "ProgressView",
            "bar_style": "success",
            "description": "",
            "description_tooltip": null,
            "layout": "IPY_MODEL_8c0076e2dff74078a020b591b5cd55e7",
            "max": 28821,
            "min": 0,
            "orientation": "horizontal",
            "style": "IPY_MODEL_109e864622344bf296df309f6e3032f5",
            "value": 28821
          }
        },
        "f64b1f149f1946ff84fd22a192ac722c": {
          "model_module": "@jupyter-widgets/controls",
          "model_name": "HTMLModel",
          "model_module_version": "1.5.0",
          "state": {
            "_dom_classes": [],
            "_model_module": "@jupyter-widgets/controls",
            "_model_module_version": "1.5.0",
            "_model_name": "HTMLModel",
            "_view_count": null,
            "_view_module": "@jupyter-widgets/controls",
            "_view_module_version": "1.5.0",
            "_view_name": "HTMLView",
            "description": "",
            "description_tooltip": null,
            "layout": "IPY_MODEL_c224765a39a24a3699de59b3a7603dd8",
            "placeholder": "​",
            "style": "IPY_MODEL_38d605ed15ea46deb79d66db094259e6",
            "value": " 28821/28821 [00:04&lt;00:00, 6910.64it/s]"
          }
        },
        "7cfa15ab8aed433cb4add0d749417f79": {
          "model_module": "@jupyter-widgets/base",
          "model_name": "LayoutModel",
          "model_module_version": "1.2.0",
          "state": {
            "_model_module": "@jupyter-widgets/base",
            "_model_module_version": "1.2.0",
            "_model_name": "LayoutModel",
            "_view_count": null,
            "_view_module": "@jupyter-widgets/base",
            "_view_module_version": "1.2.0",
            "_view_name": "LayoutView",
            "align_content": null,
            "align_items": null,
            "align_self": null,
            "border": null,
            "bottom": null,
            "display": null,
            "flex": null,
            "flex_flow": null,
            "grid_area": null,
            "grid_auto_columns": null,
            "grid_auto_flow": null,
            "grid_auto_rows": null,
            "grid_column": null,
            "grid_gap": null,
            "grid_row": null,
            "grid_template_areas": null,
            "grid_template_columns": null,
            "grid_template_rows": null,
            "height": null,
            "justify_content": null,
            "justify_items": null,
            "left": null,
            "margin": null,
            "max_height": null,
            "max_width": null,
            "min_height": null,
            "min_width": null,
            "object_fit": null,
            "object_position": null,
            "order": null,
            "overflow": null,
            "overflow_x": null,
            "overflow_y": null,
            "padding": null,
            "right": null,
            "top": null,
            "visibility": null,
            "width": null
          }
        },
        "a45b9db72849496197cf3f682631a2ae": {
          "model_module": "@jupyter-widgets/base",
          "model_name": "LayoutModel",
          "model_module_version": "1.2.0",
          "state": {
            "_model_module": "@jupyter-widgets/base",
            "_model_module_version": "1.2.0",
            "_model_name": "LayoutModel",
            "_view_count": null,
            "_view_module": "@jupyter-widgets/base",
            "_view_module_version": "1.2.0",
            "_view_name": "LayoutView",
            "align_content": null,
            "align_items": null,
            "align_self": null,
            "border": null,
            "bottom": null,
            "display": null,
            "flex": null,
            "flex_flow": null,
            "grid_area": null,
            "grid_auto_columns": null,
            "grid_auto_flow": null,
            "grid_auto_rows": null,
            "grid_column": null,
            "grid_gap": null,
            "grid_row": null,
            "grid_template_areas": null,
            "grid_template_columns": null,
            "grid_template_rows": null,
            "height": null,
            "justify_content": null,
            "justify_items": null,
            "left": null,
            "margin": null,
            "max_height": null,
            "max_width": null,
            "min_height": null,
            "min_width": null,
            "object_fit": null,
            "object_position": null,
            "order": null,
            "overflow": null,
            "overflow_x": null,
            "overflow_y": null,
            "padding": null,
            "right": null,
            "top": null,
            "visibility": null,
            "width": null
          }
        },
        "3a912ee522d4405da92036f3262d6397": {
          "model_module": "@jupyter-widgets/controls",
          "model_name": "DescriptionStyleModel",
          "model_module_version": "1.5.0",
          "state": {
            "_model_module": "@jupyter-widgets/controls",
            "_model_module_version": "1.5.0",
            "_model_name": "DescriptionStyleModel",
            "_view_count": null,
            "_view_module": "@jupyter-widgets/base",
            "_view_module_version": "1.2.0",
            "_view_name": "StyleView",
            "description_width": ""
          }
        },
        "8c0076e2dff74078a020b591b5cd55e7": {
          "model_module": "@jupyter-widgets/base",
          "model_name": "LayoutModel",
          "model_module_version": "1.2.0",
          "state": {
            "_model_module": "@jupyter-widgets/base",
            "_model_module_version": "1.2.0",
            "_model_name": "LayoutModel",
            "_view_count": null,
            "_view_module": "@jupyter-widgets/base",
            "_view_module_version": "1.2.0",
            "_view_name": "LayoutView",
            "align_content": null,
            "align_items": null,
            "align_self": null,
            "border": null,
            "bottom": null,
            "display": null,
            "flex": null,
            "flex_flow": null,
            "grid_area": null,
            "grid_auto_columns": null,
            "grid_auto_flow": null,
            "grid_auto_rows": null,
            "grid_column": null,
            "grid_gap": null,
            "grid_row": null,
            "grid_template_areas": null,
            "grid_template_columns": null,
            "grid_template_rows": null,
            "height": null,
            "justify_content": null,
            "justify_items": null,
            "left": null,
            "margin": null,
            "max_height": null,
            "max_width": null,
            "min_height": null,
            "min_width": null,
            "object_fit": null,
            "object_position": null,
            "order": null,
            "overflow": null,
            "overflow_x": null,
            "overflow_y": null,
            "padding": null,
            "right": null,
            "top": null,
            "visibility": null,
            "width": null
          }
        },
        "109e864622344bf296df309f6e3032f5": {
          "model_module": "@jupyter-widgets/controls",
          "model_name": "ProgressStyleModel",
          "model_module_version": "1.5.0",
          "state": {
            "_model_module": "@jupyter-widgets/controls",
            "_model_module_version": "1.5.0",
            "_model_name": "ProgressStyleModel",
            "_view_count": null,
            "_view_module": "@jupyter-widgets/base",
            "_view_module_version": "1.2.0",
            "_view_name": "StyleView",
            "bar_color": null,
            "description_width": ""
          }
        },
        "c224765a39a24a3699de59b3a7603dd8": {
          "model_module": "@jupyter-widgets/base",
          "model_name": "LayoutModel",
          "model_module_version": "1.2.0",
          "state": {
            "_model_module": "@jupyter-widgets/base",
            "_model_module_version": "1.2.0",
            "_model_name": "LayoutModel",
            "_view_count": null,
            "_view_module": "@jupyter-widgets/base",
            "_view_module_version": "1.2.0",
            "_view_name": "LayoutView",
            "align_content": null,
            "align_items": null,
            "align_self": null,
            "border": null,
            "bottom": null,
            "display": null,
            "flex": null,
            "flex_flow": null,
            "grid_area": null,
            "grid_auto_columns": null,
            "grid_auto_flow": null,
            "grid_auto_rows": null,
            "grid_column": null,
            "grid_gap": null,
            "grid_row": null,
            "grid_template_areas": null,
            "grid_template_columns": null,
            "grid_template_rows": null,
            "height": null,
            "justify_content": null,
            "justify_items": null,
            "left": null,
            "margin": null,
            "max_height": null,
            "max_width": null,
            "min_height": null,
            "min_width": null,
            "object_fit": null,
            "object_position": null,
            "order": null,
            "overflow": null,
            "overflow_x": null,
            "overflow_y": null,
            "padding": null,
            "right": null,
            "top": null,
            "visibility": null,
            "width": null
          }
        },
        "38d605ed15ea46deb79d66db094259e6": {
          "model_module": "@jupyter-widgets/controls",
          "model_name": "DescriptionStyleModel",
          "model_module_version": "1.5.0",
          "state": {
            "_model_module": "@jupyter-widgets/controls",
            "_model_module_version": "1.5.0",
            "_model_name": "DescriptionStyleModel",
            "_view_count": null,
            "_view_module": "@jupyter-widgets/base",
            "_view_module_version": "1.2.0",
            "_view_name": "StyleView",
            "description_width": ""
          }
        },
        "8f50289d7410448fbf8ab308711c4980": {
          "model_module": "@jupyter-widgets/controls",
          "model_name": "HBoxModel",
          "model_module_version": "1.5.0",
          "state": {
            "_dom_classes": [],
            "_model_module": "@jupyter-widgets/controls",
            "_model_module_version": "1.5.0",
            "_model_name": "HBoxModel",
            "_view_count": null,
            "_view_module": "@jupyter-widgets/controls",
            "_view_module_version": "1.5.0",
            "_view_name": "HBoxView",
            "box_style": "",
            "children": [
              "IPY_MODEL_f4ed7a50e7b541b296535b3735550486",
              "IPY_MODEL_aa7079c3ac66425497cc3223b092abda",
              "IPY_MODEL_743110fa59fb4b4dbc4a289cebfc7dec"
            ],
            "layout": "IPY_MODEL_291269c6eeb243c190cb6d867642c820"
          }
        },
        "f4ed7a50e7b541b296535b3735550486": {
          "model_module": "@jupyter-widgets/controls",
          "model_name": "HTMLModel",
          "model_module_version": "1.5.0",
          "state": {
            "_dom_classes": [],
            "_model_module": "@jupyter-widgets/controls",
            "_model_module_version": "1.5.0",
            "_model_name": "HTMLModel",
            "_view_count": null,
            "_view_module": "@jupyter-widgets/controls",
            "_view_module_version": "1.5.0",
            "_view_name": "HTMLView",
            "description": "",
            "description_tooltip": null,
            "layout": "IPY_MODEL_fcf50d62afeb43ad95d7ea1fb143bb6c",
            "placeholder": "​",
            "style": "IPY_MODEL_a04f54a49bdf4b79aaa76fda25eb80d9",
            "value": "100%"
          }
        },
        "aa7079c3ac66425497cc3223b092abda": {
          "model_module": "@jupyter-widgets/controls",
          "model_name": "FloatProgressModel",
          "model_module_version": "1.5.0",
          "state": {
            "_dom_classes": [],
            "_model_module": "@jupyter-widgets/controls",
            "_model_module_version": "1.5.0",
            "_model_name": "FloatProgressModel",
            "_view_count": null,
            "_view_module": "@jupyter-widgets/controls",
            "_view_module_version": "1.5.0",
            "_view_name": "ProgressView",
            "bar_style": "success",
            "description": "",
            "description_tooltip": null,
            "layout": "IPY_MODEL_823cb9be7fbf45eda32b184cdcd90245",
            "max": 7066,
            "min": 0,
            "orientation": "horizontal",
            "style": "IPY_MODEL_434e43890fa74112850cefede6bc8db3",
            "value": 7066
          }
        },
        "743110fa59fb4b4dbc4a289cebfc7dec": {
          "model_module": "@jupyter-widgets/controls",
          "model_name": "HTMLModel",
          "model_module_version": "1.5.0",
          "state": {
            "_dom_classes": [],
            "_model_module": "@jupyter-widgets/controls",
            "_model_module_version": "1.5.0",
            "_model_name": "HTMLModel",
            "_view_count": null,
            "_view_module": "@jupyter-widgets/controls",
            "_view_module_version": "1.5.0",
            "_view_name": "HTMLView",
            "description": "",
            "description_tooltip": null,
            "layout": "IPY_MODEL_db19c119cb854a8da04f815c4d02b53e",
            "placeholder": "​",
            "style": "IPY_MODEL_ba2a8c170ee44ad389a3e9e3bc6c9088",
            "value": " 7066/7066 [00:01&lt;00:00, 6534.66it/s]"
          }
        },
        "291269c6eeb243c190cb6d867642c820": {
          "model_module": "@jupyter-widgets/base",
          "model_name": "LayoutModel",
          "model_module_version": "1.2.0",
          "state": {
            "_model_module": "@jupyter-widgets/base",
            "_model_module_version": "1.2.0",
            "_model_name": "LayoutModel",
            "_view_count": null,
            "_view_module": "@jupyter-widgets/base",
            "_view_module_version": "1.2.0",
            "_view_name": "LayoutView",
            "align_content": null,
            "align_items": null,
            "align_self": null,
            "border": null,
            "bottom": null,
            "display": null,
            "flex": null,
            "flex_flow": null,
            "grid_area": null,
            "grid_auto_columns": null,
            "grid_auto_flow": null,
            "grid_auto_rows": null,
            "grid_column": null,
            "grid_gap": null,
            "grid_row": null,
            "grid_template_areas": null,
            "grid_template_columns": null,
            "grid_template_rows": null,
            "height": null,
            "justify_content": null,
            "justify_items": null,
            "left": null,
            "margin": null,
            "max_height": null,
            "max_width": null,
            "min_height": null,
            "min_width": null,
            "object_fit": null,
            "object_position": null,
            "order": null,
            "overflow": null,
            "overflow_x": null,
            "overflow_y": null,
            "padding": null,
            "right": null,
            "top": null,
            "visibility": null,
            "width": null
          }
        },
        "fcf50d62afeb43ad95d7ea1fb143bb6c": {
          "model_module": "@jupyter-widgets/base",
          "model_name": "LayoutModel",
          "model_module_version": "1.2.0",
          "state": {
            "_model_module": "@jupyter-widgets/base",
            "_model_module_version": "1.2.0",
            "_model_name": "LayoutModel",
            "_view_count": null,
            "_view_module": "@jupyter-widgets/base",
            "_view_module_version": "1.2.0",
            "_view_name": "LayoutView",
            "align_content": null,
            "align_items": null,
            "align_self": null,
            "border": null,
            "bottom": null,
            "display": null,
            "flex": null,
            "flex_flow": null,
            "grid_area": null,
            "grid_auto_columns": null,
            "grid_auto_flow": null,
            "grid_auto_rows": null,
            "grid_column": null,
            "grid_gap": null,
            "grid_row": null,
            "grid_template_areas": null,
            "grid_template_columns": null,
            "grid_template_rows": null,
            "height": null,
            "justify_content": null,
            "justify_items": null,
            "left": null,
            "margin": null,
            "max_height": null,
            "max_width": null,
            "min_height": null,
            "min_width": null,
            "object_fit": null,
            "object_position": null,
            "order": null,
            "overflow": null,
            "overflow_x": null,
            "overflow_y": null,
            "padding": null,
            "right": null,
            "top": null,
            "visibility": null,
            "width": null
          }
        },
        "a04f54a49bdf4b79aaa76fda25eb80d9": {
          "model_module": "@jupyter-widgets/controls",
          "model_name": "DescriptionStyleModel",
          "model_module_version": "1.5.0",
          "state": {
            "_model_module": "@jupyter-widgets/controls",
            "_model_module_version": "1.5.0",
            "_model_name": "DescriptionStyleModel",
            "_view_count": null,
            "_view_module": "@jupyter-widgets/base",
            "_view_module_version": "1.2.0",
            "_view_name": "StyleView",
            "description_width": ""
          }
        },
        "823cb9be7fbf45eda32b184cdcd90245": {
          "model_module": "@jupyter-widgets/base",
          "model_name": "LayoutModel",
          "model_module_version": "1.2.0",
          "state": {
            "_model_module": "@jupyter-widgets/base",
            "_model_module_version": "1.2.0",
            "_model_name": "LayoutModel",
            "_view_count": null,
            "_view_module": "@jupyter-widgets/base",
            "_view_module_version": "1.2.0",
            "_view_name": "LayoutView",
            "align_content": null,
            "align_items": null,
            "align_self": null,
            "border": null,
            "bottom": null,
            "display": null,
            "flex": null,
            "flex_flow": null,
            "grid_area": null,
            "grid_auto_columns": null,
            "grid_auto_flow": null,
            "grid_auto_rows": null,
            "grid_column": null,
            "grid_gap": null,
            "grid_row": null,
            "grid_template_areas": null,
            "grid_template_columns": null,
            "grid_template_rows": null,
            "height": null,
            "justify_content": null,
            "justify_items": null,
            "left": null,
            "margin": null,
            "max_height": null,
            "max_width": null,
            "min_height": null,
            "min_width": null,
            "object_fit": null,
            "object_position": null,
            "order": null,
            "overflow": null,
            "overflow_x": null,
            "overflow_y": null,
            "padding": null,
            "right": null,
            "top": null,
            "visibility": null,
            "width": null
          }
        },
        "434e43890fa74112850cefede6bc8db3": {
          "model_module": "@jupyter-widgets/controls",
          "model_name": "ProgressStyleModel",
          "model_module_version": "1.5.0",
          "state": {
            "_model_module": "@jupyter-widgets/controls",
            "_model_module_version": "1.5.0",
            "_model_name": "ProgressStyleModel",
            "_view_count": null,
            "_view_module": "@jupyter-widgets/base",
            "_view_module_version": "1.2.0",
            "_view_name": "StyleView",
            "bar_color": null,
            "description_width": ""
          }
        },
        "db19c119cb854a8da04f815c4d02b53e": {
          "model_module": "@jupyter-widgets/base",
          "model_name": "LayoutModel",
          "model_module_version": "1.2.0",
          "state": {
            "_model_module": "@jupyter-widgets/base",
            "_model_module_version": "1.2.0",
            "_model_name": "LayoutModel",
            "_view_count": null,
            "_view_module": "@jupyter-widgets/base",
            "_view_module_version": "1.2.0",
            "_view_name": "LayoutView",
            "align_content": null,
            "align_items": null,
            "align_self": null,
            "border": null,
            "bottom": null,
            "display": null,
            "flex": null,
            "flex_flow": null,
            "grid_area": null,
            "grid_auto_columns": null,
            "grid_auto_flow": null,
            "grid_auto_rows": null,
            "grid_column": null,
            "grid_gap": null,
            "grid_row": null,
            "grid_template_areas": null,
            "grid_template_columns": null,
            "grid_template_rows": null,
            "height": null,
            "justify_content": null,
            "justify_items": null,
            "left": null,
            "margin": null,
            "max_height": null,
            "max_width": null,
            "min_height": null,
            "min_width": null,
            "object_fit": null,
            "object_position": null,
            "order": null,
            "overflow": null,
            "overflow_x": null,
            "overflow_y": null,
            "padding": null,
            "right": null,
            "top": null,
            "visibility": null,
            "width": null
          }
        },
        "ba2a8c170ee44ad389a3e9e3bc6c9088": {
          "model_module": "@jupyter-widgets/controls",
          "model_name": "DescriptionStyleModel",
          "model_module_version": "1.5.0",
          "state": {
            "_model_module": "@jupyter-widgets/controls",
            "_model_module_version": "1.5.0",
            "_model_name": "DescriptionStyleModel",
            "_view_count": null,
            "_view_module": "@jupyter-widgets/base",
            "_view_module_version": "1.2.0",
            "_view_name": "StyleView",
            "description_width": ""
          }
        }
      }
    }
  },
  "cells": [
    {
      "cell_type": "code",
      "execution_count": 1,
      "metadata": {
        "colab": {
          "base_uri": "https://localhost:8080/"
        },
        "id": "z_dDtFbelqdQ",
        "outputId": "7905785f-af5a-4d15-cde1-d33d65d238b4"
      },
      "outputs": [
        {
          "output_type": "stream",
          "name": "stdout",
          "text": [
            "Collecting keras_preprocessing\n",
            "  Downloading Keras_Preprocessing-1.1.2-py2.py3-none-any.whl (42 kB)\n",
            "\u001b[2K     \u001b[90m━━━━━━━━━━━━━━━━━━━━━━━━━━━━━━━━━━━━━━━\u001b[0m \u001b[32m42.6/42.6 kB\u001b[0m \u001b[31m676.4 kB/s\u001b[0m eta \u001b[36m0:00:00\u001b[0m\n",
            "\u001b[?25hRequirement already satisfied: numpy>=1.9.1 in /usr/local/lib/python3.10/dist-packages (from keras_preprocessing) (1.22.4)\n",
            "Requirement already satisfied: six>=1.9.0 in /usr/local/lib/python3.10/dist-packages (from keras_preprocessing) (1.16.0)\n",
            "Installing collected packages: keras_preprocessing\n",
            "Successfully installed keras_preprocessing-1.1.2\n"
          ]
        }
      ],
      "source": [
        "!pip install keras_preprocessing\n"
      ]
    },
    {
      "cell_type": "code",
      "source": [
        "from keras.utils import to_categorical\n",
        "from keras_preprocessing.image import load_img\n",
        "from keras.models import Sequential\n",
        "from keras.layers import Dense, Conv2D, Dropout, Flatten, MaxPooling2D\n",
        "import os\n",
        "import pandas as pd\n",
        "import numpy as np"
      ],
      "metadata": {
        "id": "VP4FpsKhl3jP"
      },
      "execution_count": 2,
      "outputs": []
    },
    {
      "cell_type": "code",
      "source": [
        "import shutil\n",
        "zipfile = '/content/archive (5).zip'\n",
        "unzip_to = '/content/images-trainval'\n",
        "shutil.unpack_archive(zipfile, unzip_to)\n"
      ],
      "metadata": {
        "id": "xFEhvbW1ojCX"
      },
      "execution_count": 4,
      "outputs": []
    },
    {
      "cell_type": "code",
      "source": [
        "TRAIN_DIR ='/content/images-trainval/images/images/train'\n",
        "TEST_DIR = '/content/images-trainval/images/images/validation'"
      ],
      "metadata": {
        "id": "zpr3Saekl3mR"
      },
      "execution_count": 5,
      "outputs": []
    },
    {
      "cell_type": "code",
      "source": [
        "#images ko uthakr dataframe banayege ek seperate\n",
        "def createdataframe(dir):\n",
        "    image_paths = []\n",
        "    labels = []\n",
        "    for label in os.listdir(dir):\n",
        "        for imagename in os.listdir(os.path.join(dir,label)):\n",
        "            image_paths.append(os.path.join(dir,label,imagename))\n",
        "            labels.append(label)\n",
        "        print(label, \"completed\")\n",
        "    return image_paths,labels"
      ],
      "metadata": {
        "id": "LucsoZ32l3px"
      },
      "execution_count": 6,
      "outputs": []
    },
    {
      "cell_type": "code",
      "source": [
        "train = pd.DataFrame()\n",
        "train['image'], train['label'] = createdataframe(TRAIN_DIR)"
      ],
      "metadata": {
        "colab": {
          "base_uri": "https://localhost:8080/"
        },
        "id": "lE0PYivbqlbk",
        "outputId": "8fbc49c5-dfec-454d-a7dc-f5da7a0ee826"
      },
      "execution_count": 7,
      "outputs": [
        {
          "output_type": "stream",
          "name": "stdout",
          "text": [
            "sad completed\n",
            "surprise completed\n",
            "fear completed\n",
            "neutral completed\n",
            "happy completed\n",
            "angry completed\n",
            "disgust completed\n"
          ]
        }
      ]
    },
    {
      "cell_type": "code",
      "source": [
        "print(train)\n"
      ],
      "metadata": {
        "colab": {
          "base_uri": "https://localhost:8080/"
        },
        "id": "25a-6yXaqleb",
        "outputId": "4a60582b-42ee-40e4-e591-b0636b7ee384"
      },
      "execution_count": 8,
      "outputs": [
        {
          "output_type": "stream",
          "name": "stdout",
          "text": [
            "                                                   image    label\n",
            "0      /content/images-trainval/images/images/train/s...      sad\n",
            "1      /content/images-trainval/images/images/train/s...      sad\n",
            "2      /content/images-trainval/images/images/train/s...      sad\n",
            "3      /content/images-trainval/images/images/train/s...      sad\n",
            "4      /content/images-trainval/images/images/train/s...      sad\n",
            "...                                                  ...      ...\n",
            "28816  /content/images-trainval/images/images/train/d...  disgust\n",
            "28817  /content/images-trainval/images/images/train/d...  disgust\n",
            "28818  /content/images-trainval/images/images/train/d...  disgust\n",
            "28819  /content/images-trainval/images/images/train/d...  disgust\n",
            "28820  /content/images-trainval/images/images/train/d...  disgust\n",
            "\n",
            "[28821 rows x 2 columns]\n"
          ]
        }
      ]
    },
    {
      "cell_type": "code",
      "source": [
        "test = pd.DataFrame()\n",
        "test['image'], test['label'] = createdataframe(TEST_DIR)"
      ],
      "metadata": {
        "colab": {
          "base_uri": "https://localhost:8080/"
        },
        "id": "95qilVO7qlh8",
        "outputId": "108bfebc-ef9e-4f00-9a9a-04900adf0b35"
      },
      "execution_count": 9,
      "outputs": [
        {
          "output_type": "stream",
          "name": "stdout",
          "text": [
            "sad completed\n",
            "surprise completed\n",
            "fear completed\n",
            "neutral completed\n",
            "happy completed\n",
            "angry completed\n",
            "disgust completed\n"
          ]
        }
      ]
    },
    {
      "cell_type": "code",
      "source": [
        "print(test)\n",
        "print(test['image'])\n"
      ],
      "metadata": {
        "colab": {
          "base_uri": "https://localhost:8080/"
        },
        "id": "l0DCNBFxrRnz",
        "outputId": "b5e8e208-1562-486d-904c-16e3bb371c4b"
      },
      "execution_count": 10,
      "outputs": [
        {
          "output_type": "stream",
          "name": "stdout",
          "text": [
            "                                                  image    label\n",
            "0     /content/images-trainval/images/images/validat...      sad\n",
            "1     /content/images-trainval/images/images/validat...      sad\n",
            "2     /content/images-trainval/images/images/validat...      sad\n",
            "3     /content/images-trainval/images/images/validat...      sad\n",
            "4     /content/images-trainval/images/images/validat...      sad\n",
            "...                                                 ...      ...\n",
            "7061  /content/images-trainval/images/images/validat...  disgust\n",
            "7062  /content/images-trainval/images/images/validat...  disgust\n",
            "7063  /content/images-trainval/images/images/validat...  disgust\n",
            "7064  /content/images-trainval/images/images/validat...  disgust\n",
            "7065  /content/images-trainval/images/images/validat...  disgust\n",
            "\n",
            "[7066 rows x 2 columns]\n",
            "0       /content/images-trainval/images/images/validat...\n",
            "1       /content/images-trainval/images/images/validat...\n",
            "2       /content/images-trainval/images/images/validat...\n",
            "3       /content/images-trainval/images/images/validat...\n",
            "4       /content/images-trainval/images/images/validat...\n",
            "                              ...                        \n",
            "7061    /content/images-trainval/images/images/validat...\n",
            "7062    /content/images-trainval/images/images/validat...\n",
            "7063    /content/images-trainval/images/images/validat...\n",
            "7064    /content/images-trainval/images/images/validat...\n",
            "7065    /content/images-trainval/images/images/validat...\n",
            "Name: image, Length: 7066, dtype: object\n"
          ]
        }
      ]
    },
    {
      "cell_type": "code",
      "source": [
        "from tqdm.notebook import tqdm"
      ],
      "metadata": {
        "id": "dlFBNczHrRqA"
      },
      "execution_count": 11,
      "outputs": []
    },
    {
      "cell_type": "code",
      "source": [
        "def extract_features(images):\n",
        "    features = []\n",
        "    for image in tqdm(images):\n",
        "        img = load_img(image,grayscale =  True )\n",
        "        img = np.array(img)\n",
        "        features.append(img)\n",
        "    features = np.array(features)\n",
        "    features = features.reshape(len(features),48,48,1)\n",
        "    return features\n",
        ""
      ],
      "metadata": {
        "id": "Z2FzdkiOrRsc"
      },
      "execution_count": 12,
      "outputs": []
    },
    {
      "cell_type": "code",
      "source": [
        "train_features = extract_features(train['image'])"
      ],
      "metadata": {
        "colab": {
          "base_uri": "https://localhost:8080/",
          "height": 104,
          "referenced_widgets": [
            "f7e8ae90c9b74e4890fac6c274154d41",
            "c3e717ab3ee140508d13edaebc5e86da",
            "48e25b3f7833450eb1cc62c20f6eac68",
            "f64b1f149f1946ff84fd22a192ac722c",
            "7cfa15ab8aed433cb4add0d749417f79",
            "a45b9db72849496197cf3f682631a2ae",
            "3a912ee522d4405da92036f3262d6397",
            "8c0076e2dff74078a020b591b5cd55e7",
            "109e864622344bf296df309f6e3032f5",
            "c224765a39a24a3699de59b3a7603dd8",
            "38d605ed15ea46deb79d66db094259e6"
          ]
        },
        "id": "tUasxwDrrRvj",
        "outputId": "588fee74-3f83-423c-bc70-7d17b7e2f450"
      },
      "execution_count": 13,
      "outputs": [
        {
          "output_type": "display_data",
          "data": {
            "text/plain": [
              "  0%|          | 0/28821 [00:00<?, ?it/s]"
            ],
            "application/vnd.jupyter.widget-view+json": {
              "version_major": 2,
              "version_minor": 0,
              "model_id": "f7e8ae90c9b74e4890fac6c274154d41"
            }
          },
          "metadata": {}
        },
        {
          "output_type": "stream",
          "name": "stderr",
          "text": [
            "/usr/local/lib/python3.10/dist-packages/keras_preprocessing/image/utils.py:107: UserWarning: grayscale is deprecated. Please use color_mode = \"grayscale\"\n",
            "  warnings.warn('grayscale is deprecated. Please use '\n"
          ]
        }
      ]
    },
    {
      "cell_type": "code",
      "source": [
        "test_features = extract_features(test['image'])"
      ],
      "metadata": {
        "colab": {
          "base_uri": "https://localhost:8080/",
          "height": 49,
          "referenced_widgets": [
            "8f50289d7410448fbf8ab308711c4980",
            "f4ed7a50e7b541b296535b3735550486",
            "aa7079c3ac66425497cc3223b092abda",
            "743110fa59fb4b4dbc4a289cebfc7dec",
            "291269c6eeb243c190cb6d867642c820",
            "fcf50d62afeb43ad95d7ea1fb143bb6c",
            "a04f54a49bdf4b79aaa76fda25eb80d9",
            "823cb9be7fbf45eda32b184cdcd90245",
            "434e43890fa74112850cefede6bc8db3",
            "db19c119cb854a8da04f815c4d02b53e",
            "ba2a8c170ee44ad389a3e9e3bc6c9088"
          ]
        },
        "id": "t5OVWSGvreDW",
        "outputId": "cae9b83b-0224-4871-ade1-dcc024ea5405"
      },
      "execution_count": 14,
      "outputs": [
        {
          "output_type": "display_data",
          "data": {
            "text/plain": [
              "  0%|          | 0/7066 [00:00<?, ?it/s]"
            ],
            "application/vnd.jupyter.widget-view+json": {
              "version_major": 2,
              "version_minor": 0,
              "model_id": "8f50289d7410448fbf8ab308711c4980"
            }
          },
          "metadata": {}
        }
      ]
    },
    {
      "cell_type": "code",
      "source": [
        "x_train = train_features/255.0\n",
        "x_test = test_features/255.0"
      ],
      "metadata": {
        "id": "ba6DNuJRreGR"
      },
      "execution_count": 15,
      "outputs": []
    },
    {
      "cell_type": "code",
      "source": [
        "from sklearn.preprocessing import LabelEncoder"
      ],
      "metadata": {
        "id": "i2Go7rIareK5"
      },
      "execution_count": 16,
      "outputs": []
    },
    {
      "cell_type": "code",
      "source": [
        "le = LabelEncoder()\n",
        "le.fit(train['label'])"
      ],
      "metadata": {
        "colab": {
          "base_uri": "https://localhost:8080/",
          "height": 74
        },
        "id": "UD6qBdLxreOD",
        "outputId": "10571d5e-52cd-4264-8ed7-b0822ba371cc"
      },
      "execution_count": 17,
      "outputs": [
        {
          "output_type": "execute_result",
          "data": {
            "text/plain": [
              "LabelEncoder()"
            ],
            "text/html": [
              "<style>#sk-container-id-1 {color: black;background-color: white;}#sk-container-id-1 pre{padding: 0;}#sk-container-id-1 div.sk-toggleable {background-color: white;}#sk-container-id-1 label.sk-toggleable__label {cursor: pointer;display: block;width: 100%;margin-bottom: 0;padding: 0.3em;box-sizing: border-box;text-align: center;}#sk-container-id-1 label.sk-toggleable__label-arrow:before {content: \"▸\";float: left;margin-right: 0.25em;color: #696969;}#sk-container-id-1 label.sk-toggleable__label-arrow:hover:before {color: black;}#sk-container-id-1 div.sk-estimator:hover label.sk-toggleable__label-arrow:before {color: black;}#sk-container-id-1 div.sk-toggleable__content {max-height: 0;max-width: 0;overflow: hidden;text-align: left;background-color: #f0f8ff;}#sk-container-id-1 div.sk-toggleable__content pre {margin: 0.2em;color: black;border-radius: 0.25em;background-color: #f0f8ff;}#sk-container-id-1 input.sk-toggleable__control:checked~div.sk-toggleable__content {max-height: 200px;max-width: 100%;overflow: auto;}#sk-container-id-1 input.sk-toggleable__control:checked~label.sk-toggleable__label-arrow:before {content: \"▾\";}#sk-container-id-1 div.sk-estimator input.sk-toggleable__control:checked~label.sk-toggleable__label {background-color: #d4ebff;}#sk-container-id-1 div.sk-label input.sk-toggleable__control:checked~label.sk-toggleable__label {background-color: #d4ebff;}#sk-container-id-1 input.sk-hidden--visually {border: 0;clip: rect(1px 1px 1px 1px);clip: rect(1px, 1px, 1px, 1px);height: 1px;margin: -1px;overflow: hidden;padding: 0;position: absolute;width: 1px;}#sk-container-id-1 div.sk-estimator {font-family: monospace;background-color: #f0f8ff;border: 1px dotted black;border-radius: 0.25em;box-sizing: border-box;margin-bottom: 0.5em;}#sk-container-id-1 div.sk-estimator:hover {background-color: #d4ebff;}#sk-container-id-1 div.sk-parallel-item::after {content: \"\";width: 100%;border-bottom: 1px solid gray;flex-grow: 1;}#sk-container-id-1 div.sk-label:hover label.sk-toggleable__label {background-color: #d4ebff;}#sk-container-id-1 div.sk-serial::before {content: \"\";position: absolute;border-left: 1px solid gray;box-sizing: border-box;top: 0;bottom: 0;left: 50%;z-index: 0;}#sk-container-id-1 div.sk-serial {display: flex;flex-direction: column;align-items: center;background-color: white;padding-right: 0.2em;padding-left: 0.2em;position: relative;}#sk-container-id-1 div.sk-item {position: relative;z-index: 1;}#sk-container-id-1 div.sk-parallel {display: flex;align-items: stretch;justify-content: center;background-color: white;position: relative;}#sk-container-id-1 div.sk-item::before, #sk-container-id-1 div.sk-parallel-item::before {content: \"\";position: absolute;border-left: 1px solid gray;box-sizing: border-box;top: 0;bottom: 0;left: 50%;z-index: -1;}#sk-container-id-1 div.sk-parallel-item {display: flex;flex-direction: column;z-index: 1;position: relative;background-color: white;}#sk-container-id-1 div.sk-parallel-item:first-child::after {align-self: flex-end;width: 50%;}#sk-container-id-1 div.sk-parallel-item:last-child::after {align-self: flex-start;width: 50%;}#sk-container-id-1 div.sk-parallel-item:only-child::after {width: 0;}#sk-container-id-1 div.sk-dashed-wrapped {border: 1px dashed gray;margin: 0 0.4em 0.5em 0.4em;box-sizing: border-box;padding-bottom: 0.4em;background-color: white;}#sk-container-id-1 div.sk-label label {font-family: monospace;font-weight: bold;display: inline-block;line-height: 1.2em;}#sk-container-id-1 div.sk-label-container {text-align: center;}#sk-container-id-1 div.sk-container {/* jupyter's `normalize.less` sets `[hidden] { display: none; }` but bootstrap.min.css set `[hidden] { display: none !important; }` so we also need the `!important` here to be able to override the default hidden behavior on the sphinx rendered scikit-learn.org. See: https://github.com/scikit-learn/scikit-learn/issues/21755 */display: inline-block !important;position: relative;}#sk-container-id-1 div.sk-text-repr-fallback {display: none;}</style><div id=\"sk-container-id-1\" class=\"sk-top-container\"><div class=\"sk-text-repr-fallback\"><pre>LabelEncoder()</pre><b>In a Jupyter environment, please rerun this cell to show the HTML representation or trust the notebook. <br />On GitHub, the HTML representation is unable to render, please try loading this page with nbviewer.org.</b></div><div class=\"sk-container\" hidden><div class=\"sk-item\"><div class=\"sk-estimator sk-toggleable\"><input class=\"sk-toggleable__control sk-hidden--visually\" id=\"sk-estimator-id-1\" type=\"checkbox\" checked><label for=\"sk-estimator-id-1\" class=\"sk-toggleable__label sk-toggleable__label-arrow\">LabelEncoder</label><div class=\"sk-toggleable__content\"><pre>LabelEncoder()</pre></div></div></div></div></div>"
            ]
          },
          "metadata": {},
          "execution_count": 17
        }
      ]
    },
    {
      "cell_type": "code",
      "source": [
        "y_train = le.transform(train['label'])\n",
        "y_test = le.transform(test['label'])"
      ],
      "metadata": {
        "id": "fyRsTUHwr4RQ"
      },
      "execution_count": 18,
      "outputs": []
    },
    {
      "cell_type": "code",
      "source": [
        "y_train = to_categorical(y_train,num_classes = 7)\n",
        "y_test = to_categorical(y_test,num_classes = 7)"
      ],
      "metadata": {
        "id": "kmrH-3yWr4UH"
      },
      "execution_count": 19,
      "outputs": []
    },
    {
      "cell_type": "code",
      "source": [
        "model = Sequential()\n",
        "# convolutional layers\n",
        "model.add(Conv2D(128, kernel_size=(3,3), activation='relu', input_shape=(48,48,1)))\n",
        "model.add(MaxPooling2D(pool_size=(2,2)))\n",
        "model.add(Dropout(0.4))\n",
        "\n",
        "model.add(Conv2D(256, kernel_size=(3,3), activation='relu'))\n",
        "model.add(MaxPooling2D(pool_size=(2,2)))\n",
        "model.add(Dropout(0.4))\n",
        "\n",
        "model.add(Conv2D(512, kernel_size=(3,3), activation='relu'))\n",
        "model.add(MaxPooling2D(pool_size=(2,2)))\n",
        "model.add(Dropout(0.4))\n",
        "\n",
        "model.add(Conv2D(512, kernel_size=(3,3), activation='relu'))\n",
        "model.add(MaxPooling2D(pool_size=(2,2)))\n",
        "model.add(Dropout(0.4))\n",
        "\n",
        "model.add(Flatten())\n",
        "# fully connected layers\n",
        "model.add(Dense(512, activation='relu'))\n",
        "model.add(Dropout(0.4))\n",
        "model.add(Dense(256, activation='relu'))\n",
        "model.add(Dropout(0.3))\n",
        "# output layer\n",
        "model.add(Dense(7, activation='softmax'))"
      ],
      "metadata": {
        "id": "Eb4ecu-er4Xk"
      },
      "execution_count": 20,
      "outputs": []
    },
    {
      "cell_type": "code",
      "source": [
        "model.compile(optimizer = 'adam', loss = 'categorical_crossentropy', metrics = 'accuracy' )"
      ],
      "metadata": {
        "id": "JjWYnk3jrRy-"
      },
      "execution_count": 21,
      "outputs": []
    },
    {
      "cell_type": "code",
      "source": [
        "model.fit(x= x_train,y = y_train, batch_size = 130, epochs = 105, validation_data = (x_test,y_test))"
      ],
      "metadata": {
        "colab": {
          "base_uri": "https://localhost:8080/"
        },
        "id": "VVReXzCIsMum",
        "outputId": "3bf87062-2f5c-4809-e593-101a70723126"
      },
      "execution_count": 32,
      "outputs": [
        {
          "output_type": "stream",
          "name": "stdout",
          "text": [
            "Epoch 1/105\n",
            "222/222 [==============================] - 15s 60ms/step - loss: 0.5692 - accuracy: 0.7957 - val_loss: 1.0886 - val_accuracy: 0.6459\n",
            "Epoch 2/105\n",
            "222/222 [==============================] - 12s 56ms/step - loss: 0.5772 - accuracy: 0.7954 - val_loss: 1.0574 - val_accuracy: 0.6383\n",
            "Epoch 3/105\n",
            "222/222 [==============================] - 12s 55ms/step - loss: 0.5665 - accuracy: 0.7989 - val_loss: 1.0714 - val_accuracy: 0.6320\n",
            "Epoch 4/105\n",
            "222/222 [==============================] - 12s 54ms/step - loss: 0.5773 - accuracy: 0.7965 - val_loss: 1.0709 - val_accuracy: 0.6387\n",
            "Epoch 5/105\n",
            "222/222 [==============================] - 12s 55ms/step - loss: 0.5626 - accuracy: 0.8028 - val_loss: 1.0708 - val_accuracy: 0.6431\n",
            "Epoch 6/105\n",
            "222/222 [==============================] - 12s 54ms/step - loss: 0.5602 - accuracy: 0.8003 - val_loss: 1.0737 - val_accuracy: 0.6384\n",
            "Epoch 7/105\n",
            "222/222 [==============================] - 12s 54ms/step - loss: 0.5407 - accuracy: 0.8090 - val_loss: 1.0914 - val_accuracy: 0.6356\n",
            "Epoch 8/105\n",
            "222/222 [==============================] - 12s 55ms/step - loss: 0.5434 - accuracy: 0.8077 - val_loss: 1.0923 - val_accuracy: 0.6395\n",
            "Epoch 9/105\n",
            "222/222 [==============================] - 12s 55ms/step - loss: 0.5466 - accuracy: 0.8050 - val_loss: 1.0669 - val_accuracy: 0.6419\n",
            "Epoch 10/105\n",
            "222/222 [==============================] - 12s 55ms/step - loss: 0.5488 - accuracy: 0.8047 - val_loss: 1.0464 - val_accuracy: 0.6419\n",
            "Epoch 11/105\n",
            "222/222 [==============================] - 12s 55ms/step - loss: 0.5330 - accuracy: 0.8072 - val_loss: 1.0908 - val_accuracy: 0.6356\n",
            "Epoch 12/105\n",
            "222/222 [==============================] - 12s 55ms/step - loss: 0.5368 - accuracy: 0.8117 - val_loss: 1.0616 - val_accuracy: 0.6391\n",
            "Epoch 13/105\n",
            "222/222 [==============================] - 12s 55ms/step - loss: 0.5294 - accuracy: 0.8117 - val_loss: 1.0976 - val_accuracy: 0.6410\n",
            "Epoch 14/105\n",
            "222/222 [==============================] - 12s 55ms/step - loss: 0.5334 - accuracy: 0.8119 - val_loss: 1.0920 - val_accuracy: 0.6421\n",
            "Epoch 15/105\n",
            "222/222 [==============================] - 12s 55ms/step - loss: 0.5246 - accuracy: 0.8169 - val_loss: 1.0820 - val_accuracy: 0.6366\n",
            "Epoch 16/105\n",
            "222/222 [==============================] - 12s 55ms/step - loss: 0.5228 - accuracy: 0.8120 - val_loss: 1.0699 - val_accuracy: 0.6435\n",
            "Epoch 17/105\n",
            "222/222 [==============================] - 12s 55ms/step - loss: 0.5269 - accuracy: 0.8140 - val_loss: 1.0945 - val_accuracy: 0.6456\n",
            "Epoch 18/105\n",
            "222/222 [==============================] - 12s 55ms/step - loss: 0.5283 - accuracy: 0.8124 - val_loss: 1.1207 - val_accuracy: 0.6436\n",
            "Epoch 19/105\n",
            "222/222 [==============================] - 12s 55ms/step - loss: 0.5276 - accuracy: 0.8132 - val_loss: 1.0990 - val_accuracy: 0.6446\n",
            "Epoch 20/105\n",
            "222/222 [==============================] - 12s 55ms/step - loss: 0.5221 - accuracy: 0.8150 - val_loss: 1.0938 - val_accuracy: 0.6444\n",
            "Epoch 21/105\n",
            "222/222 [==============================] - 12s 55ms/step - loss: 0.5135 - accuracy: 0.8211 - val_loss: 1.0959 - val_accuracy: 0.6380\n",
            "Epoch 22/105\n",
            "222/222 [==============================] - 12s 55ms/step - loss: 0.5082 - accuracy: 0.8195 - val_loss: 1.1113 - val_accuracy: 0.6404\n",
            "Epoch 23/105\n",
            "222/222 [==============================] - 12s 55ms/step - loss: 0.5174 - accuracy: 0.8189 - val_loss: 1.0825 - val_accuracy: 0.6361\n",
            "Epoch 24/105\n",
            "222/222 [==============================] - 12s 55ms/step - loss: 0.5098 - accuracy: 0.8231 - val_loss: 1.0808 - val_accuracy: 0.6434\n",
            "Epoch 25/105\n",
            "222/222 [==============================] - 12s 55ms/step - loss: 0.5181 - accuracy: 0.8179 - val_loss: 1.0819 - val_accuracy: 0.6393\n",
            "Epoch 26/105\n",
            "222/222 [==============================] - 12s 55ms/step - loss: 0.5043 - accuracy: 0.8220 - val_loss: 1.0769 - val_accuracy: 0.6455\n",
            "Epoch 27/105\n",
            "222/222 [==============================] - 12s 55ms/step - loss: 0.5034 - accuracy: 0.8242 - val_loss: 1.0887 - val_accuracy: 0.6387\n",
            "Epoch 28/105\n",
            "222/222 [==============================] - 12s 55ms/step - loss: 0.4899 - accuracy: 0.8280 - val_loss: 1.1068 - val_accuracy: 0.6407\n",
            "Epoch 29/105\n",
            "222/222 [==============================] - 12s 55ms/step - loss: 0.5156 - accuracy: 0.8206 - val_loss: 1.0712 - val_accuracy: 0.6418\n",
            "Epoch 30/105\n",
            "222/222 [==============================] - 12s 55ms/step - loss: 0.4983 - accuracy: 0.8267 - val_loss: 1.0903 - val_accuracy: 0.6390\n",
            "Epoch 31/105\n",
            "222/222 [==============================] - 12s 55ms/step - loss: 0.5060 - accuracy: 0.8255 - val_loss: 1.1110 - val_accuracy: 0.6395\n",
            "Epoch 32/105\n",
            "222/222 [==============================] - 12s 55ms/step - loss: 0.4955 - accuracy: 0.8279 - val_loss: 1.0902 - val_accuracy: 0.6333\n",
            "Epoch 33/105\n",
            "222/222 [==============================] - 12s 55ms/step - loss: 0.4891 - accuracy: 0.8282 - val_loss: 1.1099 - val_accuracy: 0.6391\n",
            "Epoch 34/105\n",
            "222/222 [==============================] - 12s 55ms/step - loss: 0.4924 - accuracy: 0.8264 - val_loss: 1.1146 - val_accuracy: 0.6407\n",
            "Epoch 35/105\n",
            "222/222 [==============================] - 12s 55ms/step - loss: 0.4913 - accuracy: 0.8287 - val_loss: 1.0911 - val_accuracy: 0.6394\n",
            "Epoch 36/105\n",
            "222/222 [==============================] - 12s 54ms/step - loss: 0.4778 - accuracy: 0.8347 - val_loss: 1.1188 - val_accuracy: 0.6422\n",
            "Epoch 37/105\n",
            "222/222 [==============================] - 12s 55ms/step - loss: 0.4802 - accuracy: 0.8335 - val_loss: 1.0994 - val_accuracy: 0.6421\n",
            "Epoch 38/105\n",
            "222/222 [==============================] - 12s 54ms/step - loss: 0.4920 - accuracy: 0.8291 - val_loss: 1.0902 - val_accuracy: 0.6410\n",
            "Epoch 39/105\n",
            "222/222 [==============================] - 12s 55ms/step - loss: 0.4852 - accuracy: 0.8307 - val_loss: 1.1273 - val_accuracy: 0.6463\n",
            "Epoch 40/105\n",
            "222/222 [==============================] - 12s 55ms/step - loss: 0.4727 - accuracy: 0.8382 - val_loss: 1.0840 - val_accuracy: 0.6408\n",
            "Epoch 41/105\n",
            "222/222 [==============================] - 12s 55ms/step - loss: 0.4896 - accuracy: 0.8294 - val_loss: 1.1016 - val_accuracy: 0.6387\n",
            "Epoch 42/105\n",
            "222/222 [==============================] - 12s 55ms/step - loss: 0.4837 - accuracy: 0.8304 - val_loss: 1.1131 - val_accuracy: 0.6374\n",
            "Epoch 43/105\n",
            "222/222 [==============================] - 12s 55ms/step - loss: 0.4675 - accuracy: 0.8390 - val_loss: 1.1034 - val_accuracy: 0.6376\n",
            "Epoch 44/105\n",
            "222/222 [==============================] - 12s 55ms/step - loss: 0.4797 - accuracy: 0.8338 - val_loss: 1.1167 - val_accuracy: 0.6404\n",
            "Epoch 45/105\n",
            "222/222 [==============================] - 12s 55ms/step - loss: 0.4771 - accuracy: 0.8331 - val_loss: 1.1120 - val_accuracy: 0.6422\n",
            "Epoch 46/105\n",
            "222/222 [==============================] - 12s 55ms/step - loss: 0.4754 - accuracy: 0.8361 - val_loss: 1.1339 - val_accuracy: 0.6408\n",
            "Epoch 47/105\n",
            "222/222 [==============================] - 12s 55ms/step - loss: 0.4747 - accuracy: 0.8341 - val_loss: 1.1159 - val_accuracy: 0.6415\n",
            "Epoch 48/105\n",
            "222/222 [==============================] - 12s 55ms/step - loss: 0.4733 - accuracy: 0.8380 - val_loss: 1.0899 - val_accuracy: 0.6325\n",
            "Epoch 49/105\n",
            "222/222 [==============================] - 12s 55ms/step - loss: 0.4692 - accuracy: 0.8372 - val_loss: 1.1121 - val_accuracy: 0.6394\n",
            "Epoch 50/105\n",
            "222/222 [==============================] - 12s 55ms/step - loss: 0.4681 - accuracy: 0.8391 - val_loss: 1.1060 - val_accuracy: 0.6339\n",
            "Epoch 51/105\n",
            "222/222 [==============================] - 12s 55ms/step - loss: 0.4619 - accuracy: 0.8426 - val_loss: 1.1004 - val_accuracy: 0.6350\n",
            "Epoch 52/105\n",
            "222/222 [==============================] - 12s 55ms/step - loss: 0.4494 - accuracy: 0.8433 - val_loss: 1.1264 - val_accuracy: 0.6318\n",
            "Epoch 53/105\n",
            "222/222 [==============================] - 12s 55ms/step - loss: 0.4505 - accuracy: 0.8451 - val_loss: 1.1480 - val_accuracy: 0.6422\n",
            "Epoch 54/105\n",
            "222/222 [==============================] - 12s 55ms/step - loss: 0.4740 - accuracy: 0.8373 - val_loss: 1.1434 - val_accuracy: 0.6285\n",
            "Epoch 55/105\n",
            "222/222 [==============================] - 12s 55ms/step - loss: 0.4657 - accuracy: 0.8404 - val_loss: 1.1459 - val_accuracy: 0.6347\n",
            "Epoch 56/105\n",
            "222/222 [==============================] - 12s 55ms/step - loss: 0.4725 - accuracy: 0.8390 - val_loss: 1.1025 - val_accuracy: 0.6322\n",
            "Epoch 57/105\n",
            "222/222 [==============================] - 12s 55ms/step - loss: 0.4464 - accuracy: 0.8487 - val_loss: 1.1226 - val_accuracy: 0.6393\n",
            "Epoch 58/105\n",
            "222/222 [==============================] - 12s 55ms/step - loss: 0.4531 - accuracy: 0.8434 - val_loss: 1.1282 - val_accuracy: 0.6339\n",
            "Epoch 59/105\n",
            "222/222 [==============================] - 12s 55ms/step - loss: 0.4593 - accuracy: 0.8451 - val_loss: 1.1415 - val_accuracy: 0.6284\n",
            "Epoch 60/105\n",
            "222/222 [==============================] - 12s 55ms/step - loss: 0.4562 - accuracy: 0.8449 - val_loss: 1.1362 - val_accuracy: 0.6352\n",
            "Epoch 61/105\n",
            "222/222 [==============================] - 12s 55ms/step - loss: 0.4521 - accuracy: 0.8446 - val_loss: 1.1588 - val_accuracy: 0.6364\n",
            "Epoch 62/105\n",
            "222/222 [==============================] - 12s 55ms/step - loss: 0.4511 - accuracy: 0.8437 - val_loss: 1.1540 - val_accuracy: 0.6320\n",
            "Epoch 63/105\n",
            "222/222 [==============================] - 12s 55ms/step - loss: 0.4549 - accuracy: 0.8442 - val_loss: 1.1458 - val_accuracy: 0.6356\n",
            "Epoch 64/105\n",
            "222/222 [==============================] - 12s 55ms/step - loss: 0.4477 - accuracy: 0.8462 - val_loss: 1.1407 - val_accuracy: 0.6359\n",
            "Epoch 65/105\n",
            "222/222 [==============================] - 12s 55ms/step - loss: 0.4437 - accuracy: 0.8491 - val_loss: 1.1465 - val_accuracy: 0.6377\n",
            "Epoch 66/105\n",
            "222/222 [==============================] - 12s 55ms/step - loss: 0.4387 - accuracy: 0.8476 - val_loss: 1.1621 - val_accuracy: 0.6340\n",
            "Epoch 67/105\n",
            "222/222 [==============================] - 12s 55ms/step - loss: 0.4377 - accuracy: 0.8486 - val_loss: 1.1535 - val_accuracy: 0.6428\n",
            "Epoch 68/105\n",
            "222/222 [==============================] - 12s 55ms/step - loss: 0.4419 - accuracy: 0.8500 - val_loss: 1.1538 - val_accuracy: 0.6388\n",
            "Epoch 69/105\n",
            "222/222 [==============================] - 12s 55ms/step - loss: 0.4409 - accuracy: 0.8490 - val_loss: 1.1283 - val_accuracy: 0.6371\n",
            "Epoch 70/105\n",
            "222/222 [==============================] - 12s 55ms/step - loss: 0.4368 - accuracy: 0.8508 - val_loss: 1.1607 - val_accuracy: 0.6404\n",
            "Epoch 71/105\n",
            "222/222 [==============================] - 12s 55ms/step - loss: 0.4385 - accuracy: 0.8507 - val_loss: 1.1147 - val_accuracy: 0.6343\n",
            "Epoch 72/105\n",
            "222/222 [==============================] - 12s 55ms/step - loss: 0.4326 - accuracy: 0.8501 - val_loss: 1.1107 - val_accuracy: 0.6340\n",
            "Epoch 73/105\n",
            "222/222 [==============================] - 12s 55ms/step - loss: 0.4402 - accuracy: 0.8506 - val_loss: 1.1509 - val_accuracy: 0.6367\n",
            "Epoch 74/105\n",
            "222/222 [==============================] - 12s 55ms/step - loss: 0.4365 - accuracy: 0.8507 - val_loss: 1.1693 - val_accuracy: 0.6383\n",
            "Epoch 75/105\n",
            "222/222 [==============================] - 12s 55ms/step - loss: 0.4318 - accuracy: 0.8515 - val_loss: 1.1311 - val_accuracy: 0.6349\n",
            "Epoch 76/105\n",
            "222/222 [==============================] - 12s 55ms/step - loss: 0.4338 - accuracy: 0.8519 - val_loss: 1.1537 - val_accuracy: 0.6353\n",
            "Epoch 77/105\n",
            "222/222 [==============================] - 12s 55ms/step - loss: 0.4367 - accuracy: 0.8508 - val_loss: 1.1679 - val_accuracy: 0.6405\n",
            "Epoch 78/105\n",
            "222/222 [==============================] - 12s 55ms/step - loss: 0.4320 - accuracy: 0.8551 - val_loss: 1.1715 - val_accuracy: 0.6417\n",
            "Epoch 79/105\n",
            "222/222 [==============================] - 12s 55ms/step - loss: 0.4235 - accuracy: 0.8556 - val_loss: 1.1513 - val_accuracy: 0.6411\n",
            "Epoch 80/105\n",
            "222/222 [==============================] - 12s 55ms/step - loss: 0.4276 - accuracy: 0.8539 - val_loss: 1.1520 - val_accuracy: 0.6417\n",
            "Epoch 81/105\n",
            "222/222 [==============================] - 12s 55ms/step - loss: 0.4319 - accuracy: 0.8544 - val_loss: 1.1626 - val_accuracy: 0.6370\n",
            "Epoch 82/105\n",
            "222/222 [==============================] - 12s 55ms/step - loss: 0.4370 - accuracy: 0.8527 - val_loss: 1.1493 - val_accuracy: 0.6408\n",
            "Epoch 83/105\n",
            "222/222 [==============================] - 12s 55ms/step - loss: 0.4372 - accuracy: 0.8521 - val_loss: 1.1434 - val_accuracy: 0.6414\n",
            "Epoch 84/105\n",
            "222/222 [==============================] - 12s 55ms/step - loss: 0.4279 - accuracy: 0.8553 - val_loss: 1.1498 - val_accuracy: 0.6401\n",
            "Epoch 85/105\n",
            "222/222 [==============================] - 12s 55ms/step - loss: 0.4213 - accuracy: 0.8553 - val_loss: 1.1861 - val_accuracy: 0.6377\n",
            "Epoch 86/105\n",
            "222/222 [==============================] - 12s 55ms/step - loss: 0.4049 - accuracy: 0.8605 - val_loss: 1.1631 - val_accuracy: 0.6412\n",
            "Epoch 87/105\n",
            "222/222 [==============================] - 12s 55ms/step - loss: 0.4238 - accuracy: 0.8552 - val_loss: 1.1713 - val_accuracy: 0.6373\n",
            "Epoch 88/105\n",
            "222/222 [==============================] - 12s 55ms/step - loss: 0.4246 - accuracy: 0.8561 - val_loss: 1.1449 - val_accuracy: 0.6390\n",
            "Epoch 89/105\n",
            "222/222 [==============================] - 12s 55ms/step - loss: 0.4189 - accuracy: 0.8559 - val_loss: 1.1790 - val_accuracy: 0.6449\n",
            "Epoch 90/105\n",
            "222/222 [==============================] - 12s 55ms/step - loss: 0.4181 - accuracy: 0.8582 - val_loss: 1.1563 - val_accuracy: 0.6383\n",
            "Epoch 91/105\n",
            "222/222 [==============================] - 12s 55ms/step - loss: 0.4041 - accuracy: 0.8632 - val_loss: 1.2119 - val_accuracy: 0.6360\n",
            "Epoch 92/105\n",
            "222/222 [==============================] - 12s 55ms/step - loss: 0.4161 - accuracy: 0.8555 - val_loss: 1.1553 - val_accuracy: 0.6370\n",
            "Epoch 93/105\n",
            "222/222 [==============================] - 12s 55ms/step - loss: 0.4127 - accuracy: 0.8609 - val_loss: 1.1658 - val_accuracy: 0.6370\n",
            "Epoch 94/105\n",
            "222/222 [==============================] - 12s 55ms/step - loss: 0.4141 - accuracy: 0.8612 - val_loss: 1.1606 - val_accuracy: 0.6427\n",
            "Epoch 95/105\n",
            "222/222 [==============================] - 12s 55ms/step - loss: 0.4141 - accuracy: 0.8584 - val_loss: 1.1829 - val_accuracy: 0.6329\n",
            "Epoch 96/105\n",
            "222/222 [==============================] - 12s 55ms/step - loss: 0.4087 - accuracy: 0.8664 - val_loss: 1.1967 - val_accuracy: 0.6347\n",
            "Epoch 97/105\n",
            "222/222 [==============================] - 12s 55ms/step - loss: 0.4163 - accuracy: 0.8600 - val_loss: 1.1953 - val_accuracy: 0.6414\n",
            "Epoch 98/105\n",
            "222/222 [==============================] - 12s 55ms/step - loss: 0.4016 - accuracy: 0.8655 - val_loss: 1.1700 - val_accuracy: 0.6402\n",
            "Epoch 99/105\n",
            "222/222 [==============================] - 12s 55ms/step - loss: 0.4176 - accuracy: 0.8603 - val_loss: 1.1225 - val_accuracy: 0.6414\n",
            "Epoch 100/105\n",
            "222/222 [==============================] - 12s 55ms/step - loss: 0.4049 - accuracy: 0.8655 - val_loss: 1.1430 - val_accuracy: 0.6418\n",
            "Epoch 101/105\n",
            "222/222 [==============================] - 12s 55ms/step - loss: 0.4061 - accuracy: 0.8640 - val_loss: 1.2088 - val_accuracy: 0.6329\n",
            "Epoch 102/105\n",
            "222/222 [==============================] - 12s 55ms/step - loss: 0.4004 - accuracy: 0.8644 - val_loss: 1.1633 - val_accuracy: 0.6418\n",
            "Epoch 103/105\n",
            "222/222 [==============================] - 12s 55ms/step - loss: 0.3994 - accuracy: 0.8648 - val_loss: 1.2260 - val_accuracy: 0.6377\n",
            "Epoch 104/105\n",
            "222/222 [==============================] - 12s 55ms/step - loss: 0.3984 - accuracy: 0.8656 - val_loss: 1.2164 - val_accuracy: 0.6401\n",
            "Epoch 105/105\n",
            "222/222 [==============================] - 12s 55ms/step - loss: 0.3914 - accuracy: 0.8685 - val_loss: 1.1817 - val_accuracy: 0.6383\n"
          ]
        },
        {
          "output_type": "execute_result",
          "data": {
            "text/plain": [
              "<keras.callbacks.History at 0x7ff5fc3871f0>"
            ]
          },
          "metadata": {},
          "execution_count": 32
        }
      ]
    },
    {
      "cell_type": "code",
      "source": [
        "model_json = model.to_json()\n",
        "with open(\"emotiondetector.json\",'w') as json_file:\n",
        "    json_file.write(model_json)\n",
        "model.save(\"emotiondetector.h5\")"
      ],
      "metadata": {
        "id": "QZ0F8HatsMw_"
      },
      "execution_count": 33,
      "outputs": []
    },
    {
      "cell_type": "code",
      "source": [
        "from keras.models import model_from_json"
      ],
      "metadata": {
        "id": "qtS2vZolsM6A"
      },
      "execution_count": 34,
      "outputs": []
    },
    {
      "cell_type": "code",
      "source": [
        "json_file = open(\"facialemotionmodel.json\", \"r\")\n",
        "model_json = json_file.read()\n",
        "json_file.close()\n",
        "model = model_from_json(model_json)\n",
        "model.load_weights(\"facialemotionmodel.h5\")"
      ],
      "metadata": {
        "colab": {
          "base_uri": "https://localhost:8080/",
          "height": 245
        },
        "id": "79ZtUYH_k67L",
        "outputId": "e59f911b-9c81-4c0e-935a-705a89856751"
      },
      "execution_count": 35,
      "outputs": [
        {
          "output_type": "error",
          "ename": "FileNotFoundError",
          "evalue": "ignored",
          "traceback": [
            "\u001b[0;31m---------------------------------------------------------------------------\u001b[0m",
            "\u001b[0;31mFileNotFoundError\u001b[0m                         Traceback (most recent call last)",
            "\u001b[0;32m<ipython-input-35-62a874220eb2>\u001b[0m in \u001b[0;36m<cell line: 1>\u001b[0;34m()\u001b[0m\n\u001b[0;32m----> 1\u001b[0;31m \u001b[0mjson_file\u001b[0m \u001b[0;34m=\u001b[0m \u001b[0mopen\u001b[0m\u001b[0;34m(\u001b[0m\u001b[0;34m\"facialemotionmodel.json\"\u001b[0m\u001b[0;34m,\u001b[0m \u001b[0;34m\"r\"\u001b[0m\u001b[0;34m)\u001b[0m\u001b[0;34m\u001b[0m\u001b[0;34m\u001b[0m\u001b[0m\n\u001b[0m\u001b[1;32m      2\u001b[0m \u001b[0mmodel_json\u001b[0m \u001b[0;34m=\u001b[0m \u001b[0mjson_file\u001b[0m\u001b[0;34m.\u001b[0m\u001b[0mread\u001b[0m\u001b[0;34m(\u001b[0m\u001b[0;34m)\u001b[0m\u001b[0;34m\u001b[0m\u001b[0;34m\u001b[0m\u001b[0m\n\u001b[1;32m      3\u001b[0m \u001b[0mjson_file\u001b[0m\u001b[0;34m.\u001b[0m\u001b[0mclose\u001b[0m\u001b[0;34m(\u001b[0m\u001b[0;34m)\u001b[0m\u001b[0;34m\u001b[0m\u001b[0;34m\u001b[0m\u001b[0m\n\u001b[1;32m      4\u001b[0m \u001b[0mmodel\u001b[0m \u001b[0;34m=\u001b[0m \u001b[0mmodel_from_json\u001b[0m\u001b[0;34m(\u001b[0m\u001b[0mmodel_json\u001b[0m\u001b[0;34m)\u001b[0m\u001b[0;34m\u001b[0m\u001b[0;34m\u001b[0m\u001b[0m\n\u001b[1;32m      5\u001b[0m \u001b[0mmodel\u001b[0m\u001b[0;34m.\u001b[0m\u001b[0mload_weights\u001b[0m\u001b[0;34m(\u001b[0m\u001b[0;34m\"facialemotionmodel.h5\"\u001b[0m\u001b[0;34m)\u001b[0m\u001b[0;34m\u001b[0m\u001b[0;34m\u001b[0m\u001b[0m\n",
            "\u001b[0;31mFileNotFoundError\u001b[0m: [Errno 2] No such file or directory: 'facialemotionmodel.json'"
          ]
        }
      ]
    },
    {
      "cell_type": "code",
      "source": [
        "label = ['angry','disgust','fear','happy','neutral','sad','surprise']"
      ],
      "metadata": {
        "id": "Ygtue_SalEne"
      },
      "execution_count": 36,
      "outputs": []
    },
    {
      "cell_type": "code",
      "source": [
        "def ef(image):\n",
        "    img = load_img(image,grayscale =  True )\n",
        "    feature = np.array(img)\n",
        "    feature = feature.reshape(1,48,48,1)\n",
        "    return feature/255.0"
      ],
      "metadata": {
        "id": "F-rBOhjMk699"
      },
      "execution_count": 37,
      "outputs": []
    },
    {
      "cell_type": "code",
      "source": [
        "image = '/content/images-trainval/images/train/angry/10002.jpg'\n",
        "print(\"original image is of angry\")\n",
        "img = ef(image)\n",
        "pred = model.predict(img)\n",
        "pred_label = label[pred.argmax()]\n",
        "print(\"model prediction is \",pred_label)"
      ],
      "metadata": {
        "colab": {
          "base_uri": "https://localhost:8080/"
        },
        "id": "v9lHpJysk7BY",
        "outputId": "735a943b-8cc4-4d92-a026-136b7052f790"
      },
      "execution_count": 44,
      "outputs": [
        {
          "output_type": "stream",
          "name": "stdout",
          "text": [
            "original image is of angry\n",
            "1/1 [==============================] - 0s 18ms/step\n",
            "model prediction is  angry\n"
          ]
        }
      ]
    },
    {
      "cell_type": "code",
      "source": [
        "import matplotlib.pyplot as plt\n",
        "%matplotlib inline"
      ],
      "metadata": {
        "id": "PPu1rDRDnltO"
      },
      "execution_count": 45,
      "outputs": []
    },
    {
      "cell_type": "code",
      "source": [
        "image = '/content/images-trainval/images/images/train/disgust/10236.jpg'\n",
        "print(\"original image is of disgust\")\n",
        "img = ef(image)\n",
        "pred = model.predict(img)\n",
        "pred_label = label[pred.argmax()]\n",
        "print(\"model prediction is \",pred_label)\n",
        "plt.imshow(img.reshape(48,48),cmap='gray')"
      ],
      "metadata": {
        "colab": {
          "base_uri": "https://localhost:8080/",
          "height": 500
        },
        "id": "trkOXj25nlwd",
        "outputId": "410d8ee2-1173-4574-fcba-908bab387124"
      },
      "execution_count": 46,
      "outputs": [
        {
          "output_type": "stream",
          "name": "stdout",
          "text": [
            "original image is of disgust\n",
            "1/1 [==============================] - 0s 18ms/step\n",
            "model prediction is  disgust\n"
          ]
        },
        {
          "output_type": "execute_result",
          "data": {
            "text/plain": [
              "<matplotlib.image.AxesImage at 0x7ff5fc10fd00>"
            ]
          },
          "metadata": {},
          "execution_count": 46
        },
        {
          "output_type": "display_data",
          "data": {
            "text/plain": [
              "<Figure size 640x480 with 1 Axes>"
            ],
            "image/png": "[encoded data removed]"
          },
          "metadata": {}
        }
      ]
    },
    {
      "cell_type": "code",
      "source": [
        "image = '/content/images-trainval/images/images/train/surprise/10076.jpg'\n",
        "print(\"original image is of surprise\")\n",
        "img = ef(image)\n",
        "pred = model.predict(img)\n",
        "pred_label = label[pred.argmax()]\n",
        "print(\"model prediction is \",pred_label)\n",
        "plt.imshow(img.reshape(48,48),cmap='gray')"
      ],
      "metadata": {
        "colab": {
          "base_uri": "https://localhost:8080/",
          "height": 500
        },
        "id": "7W6QP8Rgnl0h",
        "outputId": "24d7e7c3-7502-45e2-a345-e8d30f19bb83"
      },
      "execution_count": 49,
      "outputs": [
        {
          "output_type": "stream",
          "name": "stdout",
          "text": [
            "original image is of surprise\n",
            "1/1 [==============================] - 0s 18ms/step\n",
            "model prediction is  surprise\n"
          ]
        },
        {
          "output_type": "execute_result",
          "data": {
            "text/plain": [
              "<matplotlib.image.AxesImage at 0x7ff5fc05df30>"
            ]
          },
          "metadata": {},
          "execution_count": 49
        },
        {
          "output_type": "display_data",
          "data": {
            "text/plain": [
              "<Figure size 640x480 with 1 Axes>"
            ],
            "image/png": "[encoded data removed]"
          },
          "metadata": {}
        }
      ]
    },
    {
      "cell_type": "code",
      "source": [
        "image = '/content/images-trainval/images/images/train/sad/10225.jpg'\n",
        "print(\"original image is of sad\")\n",
        "img = ef(image)\n",
        "pred = model.predict(img)\n",
        "pred_label = label[pred.argmax()]\n",
        "print(\"model prediction is \",pred_label)\n",
        "plt.imshow(img.reshape(48,48),cmap='gray')"
      ],
      "metadata": {
        "colab": {
          "base_uri": "https://localhost:8080/",
          "height": 500
        },
        "id": "MHr6S1Zrnl4I",
        "outputId": "e19c0f81-f2b3-4cac-b2f7-f9b9b9dfa96c"
      },
      "execution_count": 51,
      "outputs": [
        {
          "output_type": "stream",
          "name": "stdout",
          "text": [
            "original image is of sad\n",
            "1/1 [==============================] - 0s 20ms/step\n",
            "model prediction is  sad\n"
          ]
        },
        {
          "output_type": "execute_result",
          "data": {
            "text/plain": [
              "<matplotlib.image.AxesImage at 0x7ff5fc0e73a0>"
            ]
          },
          "metadata": {},
          "execution_count": 51
        },
        {
          "output_type": "display_data",
          "data": {
            "text/plain": [
              "<Figure size 640x480 with 1 Axes>"
            ],
            "image/png": "[encoded data removed]"
          },
          "metadata": {}
        }
      ]
    }
  ]
}